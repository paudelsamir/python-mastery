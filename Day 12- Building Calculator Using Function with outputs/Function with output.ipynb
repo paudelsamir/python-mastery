{
 "cells": [
  {
   "cell_type": "markdown",
   "id": "c246503e-58df-485c-8db8-9e721529c62c",
   "metadata": {},
   "source": [
    "### Basic Example"
   ]
  },
  {
   "cell_type": "raw",
   "id": "ffd6ff64-169a-49ae-b394-7ef57c070b02",
   "metadata": {},
   "source": [
    "def add_numbers(a, b):\n",
    "    sum = a + b\n",
    "    return sum\n",
    "\n",
    "result = add_numbers(3, 5)\n",
    "print(result) \n"
   ]
  },
  {
   "cell_type": "markdown",
   "id": "b4f227b5-0f6b-45aa-aac5-a428773be818",
   "metadata": {},
   "source": [
    "### Returning Lists"
   ]
  },
  {
   "cell_type": "code",
   "execution_count": 7,
   "id": "cd7ba79b-0003-45cc-80fb-3a95647a08d4",
   "metadata": {},
   "outputs": [
    {
     "name": "stdout",
     "output_type": "stream",
     "text": [
      "[1, 4, 9, 16, 25]\n"
     ]
    }
   ],
   "source": [
    "def generate_squares(n):\n",
    "    squares = []\n",
    "    for i in range(1, n + 1):\n",
    "        squares.append(i ** 2)\n",
    "    return squares\n",
    "\n",
    "squares = generate_squares(5)\n",
    "print(squares)\n"
   ]
  },
  {
   "cell_type": "markdown",
   "id": "c4a3d3a8-6e52-4ca4-b26b-a50328dacb3b",
   "metadata": {},
   "source": [
    "### Returning Dictionary"
   ]
  },
  {
   "cell_type": "code",
   "execution_count": 12,
   "id": "4999558a-1d34-49d7-8b10-4e02d48aa5e7",
   "metadata": {},
   "outputs": [
    {
     "name": "stdout",
     "output_type": "stream",
     "text": [
      "{'name': 'Alice', 'age': 30}\n"
     ]
    }
   ],
   "source": [
    "def get_person_info(name, age):\n",
    "    return {\n",
    "        \"name\": name,\n",
    "        \"age\": age\n",
    "    }\n",
    "\n",
    "person_info = get_person_info(\"Alice\", 30)\n",
    "print(person_info)"
   ]
  }
 ],
 "metadata": {
  "kernelspec": {
   "display_name": "Python 3 (ipykernel)",
   "language": "python",
   "name": "python3"
  },
  "language_info": {
   "codemirror_mode": {
    "name": "ipython",
    "version": 3
   },
   "file_extension": ".py",
   "mimetype": "text/x-python",
   "name": "python",
   "nbconvert_exporter": "python",
   "pygments_lexer": "ipython3",
   "version": "3.11.7"
  }
 },
 "nbformat": 4,
 "nbformat_minor": 5
}
