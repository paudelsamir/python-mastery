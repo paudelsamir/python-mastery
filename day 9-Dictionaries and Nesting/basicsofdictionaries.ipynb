{
 "cells": [
  {
   "cell_type": "markdown",
   "id": "c1345da6-e724-44f6-a753-4f91df1bb4bd",
   "metadata": {},
   "source": [
    "# 1. Creating and Accessing a Dictionary"
   ]
  },
  {
   "cell_type": "code",
   "execution_count": 1,
   "id": "d9633f89-4bca-47e5-8b04-5a97d8ca8427",
   "metadata": {},
   "outputs": [
    {
     "name": "stdout",
     "output_type": "stream",
     "text": [
      "90\n",
      "85\n"
     ]
    }
   ],
   "source": [
    "student_grades = {\n",
    "    \"Alice\": 90,\n",
    "    \"Bob\": 85,\n",
    "    \"Charlie\": 92\n",
    "    }\n",
    "print(student_grades[\"Alice\"])  \n",
    "print(student_grades.get(\"Bob\"))"
   ]
  },
  {
   "cell_type": "markdown",
   "id": "2c36d1f1-5e11-4062-b82b-b9531da2a9c3",
   "metadata": {},
   "source": [
    "# 2. Adding and Updating Elements in a Dictionary"
   ]
  },
  {
   "cell_type": "code",
   "execution_count": 8,
   "id": "74671c60-04b5-40ec-9f18-f27fc8ff01c7",
   "metadata": {},
   "outputs": [
    {
     "name": "stdout",
     "output_type": "stream",
     "text": [
      "{'Alice': 95, 'Bob': 85, 'Charlie': 92, 'David': 88}\n"
     ]
    }
   ],
   "source": [
    "student_grades[\"David\"] = 88\n",
    "student_grades[\"Alice\"] = 95\n",
    "print(student_grades)"
   ]
  },
  {
   "cell_type": "markdown",
   "id": "c40a19cc-d30f-463e-8344-c9b0d7fb2a77",
   "metadata": {},
   "source": [
    "# 3. Deleting Elements from a Dictionary"
   ]
  },
  {
   "cell_type": "code",
   "execution_count": 10,
   "id": "c01061a5-b6b9-4594-bdfd-92b253a4ef95",
   "metadata": {},
   "outputs": [
    {
     "name": "stdout",
     "output_type": "stream",
     "text": [
      "{'Alice': 95, 'Charlie': 92, 'David': 88}\n"
     ]
    }
   ],
   "source": [
    "del student_grades[\"Bob\"]\n",
    "print(student_grades)"
   ]
  },
  {
   "cell_type": "markdown",
   "id": "e52a56ec",
   "metadata": {},
   "source": []
  },
  {
   "cell_type": "markdown",
   "id": "474600c1-76a3-427b-a9d1-73975c57951b",
   "metadata": {},
   "source": [
    "\n",
    "# 4. Iterating Over a Dictionary"
   ]
  },
  {
   "cell_type": "code",
   "execution_count": 12,
   "id": "8aab55f0-2fbd-400c-8e3d-745de9ae6d84",
   "metadata": {},
   "outputs": [
    {
     "name": "stdout",
     "output_type": "stream",
     "text": [
      "Alice: 95\n",
      "Charlie: 92\n",
      "David: 88\n"
     ]
    }
   ],
   "source": [
    "for student, grade in student_grades.items():\n",
    "    print(f\"{student}: {grade}\")"
   ]
  },
  {
   "cell_type": "markdown",
   "id": "4852ce94-7217-4db1-a2c0-1b06746fa310",
   "metadata": {},
   "source": [
    "# 5. Using Dictionary Methods"
   ]
  },
  {
   "cell_type": "code",
   "execution_count": 17,
   "id": "3874acb0-c973-4141-8f09-2c360d2e3214",
   "metadata": {},
   "outputs": [
    {
     "name": "stdout",
     "output_type": "stream",
     "text": [
      "dict_keys(['Alice', 'Charlie', 'David'])\n",
      "dict_values([95, 92, 88])\n",
      "dict_items([('Alice', 95), ('Charlie', 92), ('David', 88)])\n"
     ]
    }
   ],
   "source": [
    "keys = student_grades.keys()\n",
    "values = student_grades.values()\n",
    "items = student_grades.items()\n",
    "\n",
    "print(keys)  \n",
    "print(values)  \n",
    "print(items)"
   ]
  },
  {
   "cell_type": "markdown",
   "id": "1ae90c99-171a-42cf-b569-1b2c9b72f47d",
   "metadata": {},
   "source": [
    "# 6. Nesting Dictionaries:"
   ]
  },
  {
   "cell_type": "markdown",
   "id": "919de20e-f6da-4a83-a7d8-174edb932b83",
   "metadata": {},
   "source": [
    "Example: Dictionary of Dictionaries"
   ]
  },
  {
   "cell_type": "code",
   "execution_count": 1,
   "id": "c17a136a-e60c-47b4-b1c9-ade1f8ca1d68",
   "metadata": {},
   "outputs": [
    {
     "name": "stdout",
     "output_type": "stream",
     "text": [
      "{'name': 'Alice', 'age': 30, 'email': 'alice@example.com'}\n",
      "charlie@example.com\n"
     ]
    }
   ],
   "source": [
    "users = {\n",
    "    \"user1\": {\n",
    "        \"name\": \"Alice\", \n",
    "        \"age\": 30, \n",
    "        \"email\": \"alice@example.com\"\n",
    "        },\n",
    "    \"user2\": {\n",
    "        \"name\": \"Bob\", \n",
    "        \"age\": 25, \n",
    "        \"email\": \"bob@example.com\"\n",
    "        },\n",
    "    \"user3\": {\n",
    "        \"name\": \"Charlie\", \n",
    "        \"age\": 35, \n",
    "        \"email\": \"charlie@example.com\"\n",
    "        }\n",
    "}\n",
    "\n",
    "# Accessing nested dictionary elements\n",
    "print(users[\"user1\"][\"name\"])\n",
    "print(users[\"user3\"][\"email\"]) \n"
   ]
  },
  {
   "cell_type": "markdown",
   "id": "4fa51f6b-3d69-4ef6-b190-7ec2ee16789e",
   "metadata": {},
   "source": [
    " Example : Dictionary with Mixed Data Structures"
   ]
  },
  {
   "cell_type": "code",
   "execution_count": 30,
   "id": "c34125a2-f9d1-4602-acb0-0610f350ca56",
   "metadata": {},
   "outputs": [
    {
     "name": "stdout",
     "output_type": "stream",
     "text": [
      "Introduction to Python\n",
      "Bob\n",
      "Dr. Smith\n"
     ]
    }
   ],
   "source": [
    "course = {\n",
    "    \"title\": \"Introduction to Python\",\n",
    "    \"students\": [\"Alice\", \"Bob\", \"Charlie\"],\n",
    "    \"details\": {\n",
    "        \"duration\": \"6 weeks\",\n",
    "        \"instructor\": \"Dr. Smith\"\n",
    "    }\n",
    "}\n",
    "\n",
    "# Accessing nested elements\n",
    "print(course[\"title\"])           \n",
    "print(course[\"students\"][1])\n",
    "print(course[\"details\"][\"instructor\"]) \n"
   ]
  },
  {
   "cell_type": "code",
   "execution_count": null,
   "id": "6b13138d-ebb8-47ca-984c-080883771a70",
   "metadata": {},
   "outputs": [],
   "source": []
  }
 ],
 "metadata": {
  "kernelspec": {
   "display_name": "Python 3 (ipykernel)",
   "language": "python",
   "name": "python3"
  },
  "language_info": {
   "codemirror_mode": {
    "name": "ipython",
    "version": 3
   },
   "file_extension": ".py",
   "mimetype": "text/x-python",
   "name": "python",
   "nbconvert_exporter": "python",
   "pygments_lexer": "ipython3",
   "version": "3.12.4"
  }
 },
 "nbformat": 4,
 "nbformat_minor": 5
}
